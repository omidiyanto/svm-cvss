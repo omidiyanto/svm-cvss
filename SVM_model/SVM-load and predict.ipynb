{
 "cells": [
  {
   "cell_type": "code",
   "execution_count": 5,
   "metadata": {},
   "outputs": [],
   "source": [
    "import joblib\n",
    "import pandas as pd\n",
    "from sentence_transformers import SentenceTransformer"
   ]
  },
  {
   "cell_type": "code",
   "execution_count": 6,
   "metadata": {},
   "outputs": [],
   "source": [
    "# Fungsi untuk memuat model yang telah disimpan\n",
    "def load_classifier_models(categories):\n",
    "    classifiers = {}\n",
    "    for category in categories:\n",
    "        clf = joblib.load(f\"{category}_classifier.joblib\")\n",
    "        classifiers[category] = clf\n",
    "    return classifiers\n",
    "\n",
    "def predict_description(classifiers, description, categories):\n",
    "    # Menghasilkan embedding dari deskripsi input\n",
    "    model = SentenceTransformer('all-MiniLM-L6-v2')\n",
    "    description_embedding = model.encode([description])\n",
    "\n",
    "    predictions = {}\n",
    "\n",
    "    for category in categories:\n",
    "        clf = classifiers[category]['clf']  # Mengambil model classifier untuk kategori\n",
    "        # Prediksi kategori (tanpa probabilitas)\n",
    "        predicted_class = clf.predict(description_embedding)\n",
    "        predictions[category] = predicted_class[0]  # Prediksi kelas\n",
    "\n",
    "    return predictions"
   ]
  },
  {
   "cell_type": "code",
   "execution_count": 7,
   "metadata": {},
   "outputs": [
    {
     "name": "stdout",
     "output_type": "stream",
     "text": [
      "cvssv3_attack_vector           - Predicted: LOCAL\n",
      "cvssv3_attack_complexity       - Predicted: LOW\n",
      "cvssv3_privileges_required     - Predicted: LOW\n",
      "cvssv3_user_interaction        - Predicted: NONE\n",
      "cvssv3_scope                   - Predicted: UNCHANGED\n",
      "cvssv3_confidentiality_impact  - Predicted: HIGH\n",
      "cvssv3_integrity_impact        - Predicted: NONE\n",
      "cvssv3_availability_impact     - Predicted: NONE\n"
     ]
    }
   ],
   "source": [
    "# Fungsi utama untuk menjalankan prediksi\n",
    "def main_predict():\n",
    "    categories = [\n",
    "        'cvssv3_attack_vector',\n",
    "        'cvssv3_attack_complexity',\n",
    "        'cvssv3_privileges_required',\n",
    "        'cvssv3_user_interaction',\n",
    "        'cvssv3_scope',\n",
    "        'cvssv3_confidentiality_impact',\n",
    "        'cvssv3_integrity_impact',\n",
    "        'cvssv3_availability_impact',\n",
    "    ]\n",
    "    \n",
    "    # Memuat model yang telah disimpan\n",
    "    classifiers = load_classifier_models(categories)\n",
    "\n",
    "    # Input deskripsi yang ingin diprediksi\n",
    "    description = \"Non-transparent sharing of branch predictor selectors between contexts in some Intel(R) Processors may allow an authorized user to potentially enable information disclosure via local access.\" \n",
    "\n",
    "    # Melakukan prediksi untuk deskripsi input\n",
    "    predictions = predict_description(classifiers, description, categories)\n",
    "\n",
    "    # Menampilkan hasil prediksi\n",
    "    for category in categories:\n",
    "        print(f\"{category:30} - Predicted: {predictions[category]}\")\n",
    "\n",
    "# Jalankan fungsi utama untuk prediksi\n",
    "main_predict()\n"
   ]
  },
  {
   "cell_type": "markdown",
   "metadata": {},
   "source": [
    "Output contoh diatas harusnya:\n",
    "\n",
    "CVSS:3.1/AV:L/AC:L/PR:L/UI:N/S:C/C:H/I:N/A:N"
   ]
  }
 ],
 "metadata": {
  "kernelspec": {
   "display_name": "venv",
   "language": "python",
   "name": "python3"
  },
  "language_info": {
   "codemirror_mode": {
    "name": "ipython",
    "version": 3
   },
   "file_extension": ".py",
   "mimetype": "text/x-python",
   "name": "python",
   "nbconvert_exporter": "python",
   "pygments_lexer": "ipython3",
   "version": "3.10.1"
  }
 },
 "nbformat": 4,
 "nbformat_minor": 2
}
